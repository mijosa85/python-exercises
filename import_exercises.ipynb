{
 "cells": [
  {
   "cell_type": "code",
   "execution_count": 6,
   "id": "d420eb5d",
   "metadata": {},
   "outputs": [],
   "source": [
    "from function_exercises import get_letter_grade as glg"
   ]
  },
  {
   "cell_type": "code",
   "execution_count": 4,
   "id": "19b83604",
   "metadata": {},
   "outputs": [],
   "source": [
    "import itertools as it"
   ]
  },
  {
   "cell_type": "code",
   "execution_count": 8,
   "id": "d4da37d8",
   "metadata": {},
   "outputs": [],
   "source": [
    "import json"
   ]
  },
  {
   "cell_type": "code",
   "execution_count": 9,
   "id": "b96252f4",
   "metadata": {},
   "outputs": [],
   "source": [
    "profiles = json.load(open('profiles.json'))"
   ]
  },
  {
   "cell_type": "code",
   "execution_count": 41,
   "id": "df35dbd3",
   "metadata": {},
   "outputs": [],
   "source": [
    "import statistics"
   ]
  },
  {
   "cell_type": "code",
   "execution_count": 3,
   "id": "b00d03cb",
   "metadata": {},
   "outputs": [
    {
     "data": {
      "text/plain": [
       "'C'"
      ]
     },
     "execution_count": 3,
     "metadata": {},
     "output_type": "execute_result"
    }
   ],
   "source": [
    "print(\"Letter grade for score '72':\")\n",
    "glg(72)"
   ]
  },
  {
   "cell_type": "code",
   "execution_count": 11,
   "id": "870c82dd",
   "metadata": {
    "scrolled": true
   },
   "outputs": [
    {
     "name": "stdout",
     "output_type": "stream",
     "text": [
      "9\n"
     ]
    }
   ],
   "source": [
    "print(\"Number of combinations between 'ABC' and '123':\")\n",
    "print(len(list(it.product(\"ABC\", \"123\"))))"
   ]
  },
  {
   "cell_type": "code",
   "execution_count": 16,
   "id": "61197aa4",
   "metadata": {},
   "outputs": [
    {
     "name": "stdout",
     "output_type": "stream",
     "text": [
      "6\n"
     ]
    }
   ],
   "source": [
    "print(\"Number of two digit combinations for 'abcd':\")\n",
    "print(len(list(it.combinations(['a', 'b', 'c', 'd'], 2))))"
   ]
  },
  {
   "cell_type": "code",
   "execution_count": 18,
   "id": "eecb3012",
   "metadata": {},
   "outputs": [
    {
     "name": "stdout",
     "output_type": "stream",
     "text": [
      "12\n"
     ]
    }
   ],
   "source": [
    "print(\"Number of two digit permutations for 'abcd':\")\n",
    "print(len(list(it.permutations(['a', 'b', 'c', 'd'], 2))))"
   ]
  },
  {
   "cell_type": "code",
   "execution_count": 1,
   "id": "eb851c19",
   "metadata": {},
   "outputs": [
    {
     "ename": "NameError",
     "evalue": "name 'profiles' is not defined",
     "output_type": "error",
     "traceback": [
      "\u001b[0;31m---------------------------------------------------------------------------\u001b[0m",
      "\u001b[0;31mNameError\u001b[0m                                 Traceback (most recent call last)",
      "\u001b[0;32m<ipython-input-1-54434d5776d0>\u001b[0m in \u001b[0;36m<module>\u001b[0;34m\u001b[0m\n\u001b[0;32m----> 1\u001b[0;31m \u001b[0mprint\u001b[0m\u001b[0;34m(\u001b[0m\u001b[0msum\u001b[0m\u001b[0;34m(\u001b[0m\u001b[0;34m[\u001b[0m\u001b[0;36m1\u001b[0m \u001b[0;32mfor\u001b[0m \u001b[0mprofile\u001b[0m \u001b[0;32min\u001b[0m \u001b[0mprofiles\u001b[0m\u001b[0;34m]\u001b[0m\u001b[0;34m)\u001b[0m\u001b[0;34m)\u001b[0m\u001b[0;34m\u001b[0m\u001b[0;34m\u001b[0m\u001b[0m\n\u001b[0m",
      "\u001b[0;31mNameError\u001b[0m: name 'profiles' is not defined"
     ]
    }
   ],
   "source": [
    "print(\"Total number of profiles:\")\n",
    "print(sum([1 for profile in profiles]))"
   ]
  },
  {
   "cell_type": "code",
   "execution_count": 21,
   "id": "5163b50d",
   "metadata": {},
   "outputs": [
    {
     "name": "stdout",
     "output_type": "stream",
     "text": [
      "9\n"
     ]
    }
   ],
   "source": [
    "print(\"Number of profiles that are active:\")\n",
    "print(sum([1 for profile in profiles if profile['isActive'] == True]))"
   ]
  },
  {
   "cell_type": "code",
   "execution_count": 22,
   "id": "6b284c7c",
   "metadata": {},
   "outputs": [
    {
     "name": "stdout",
     "output_type": "stream",
     "text": [
      "10\n"
     ]
    }
   ],
   "source": [
    "print(\"Number of profiles that are not active:\")\n",
    "print(sum([1 for profile in profiles if profile['isActive'] == False]))"
   ]
  },
  {
   "cell_type": "code",
   "execution_count": 47,
   "id": "400e67db",
   "metadata": {
    "scrolled": false
   },
   "outputs": [
    {
     "name": "stdout",
     "output_type": "stream",
     "text": [
      "52667.02\n"
     ]
    }
   ],
   "source": [
    "balances = []\n",
    "for profile in profiles:\n",
    "    balance = ''\n",
    "    for char in profile['balance']:\n",
    "        if char not in ',$':\n",
    "            balance += char\n",
    "    balances.append(float(balance))\n",
    "print(\"Sum of all balances:\")\n",
    "print(sum(balances))"
   ]
  },
  {
   "cell_type": "code",
   "execution_count": 48,
   "id": "99bc73b7",
   "metadata": {
    "scrolled": true
   },
   "outputs": [
    {
     "name": "stdout",
     "output_type": "stream",
     "text": [
      "2771.9484210526316\n"
     ]
    }
   ],
   "source": [
    "print(\"Average balance:\")\n",
    "print(statistics.mean(balances))"
   ]
  },
  {
   "cell_type": "code",
   "execution_count": 49,
   "id": "4297a0f2",
   "metadata": {},
   "outputs": [
    {
     "name": "stdout",
     "output_type": "stream",
     "text": [
      "1214.1\n"
     ]
    }
   ],
   "source": [
    "print(\"Lowest balance:\")\n",
    "print(min(balances))"
   ]
  },
  {
   "cell_type": "code",
   "execution_count": 82,
   "id": "dd6bad7f",
   "metadata": {},
   "outputs": [
    {
     "name": "stdout",
     "output_type": "stream",
     "text": [
      "3919.64\n"
     ]
    }
   ],
   "source": [
    "print(\"Highest balance:\")\n",
    "print(max(balances))"
   ]
  },
  {
   "cell_type": "code",
   "execution_count": 10,
   "id": "7f04f27d",
   "metadata": {},
   "outputs": [
    {
     "name": "stdout",
     "output_type": "stream",
     "text": [
      "('strawberry', 9)\n"
     ]
    }
   ],
   "source": [
    "fav_fruits = {}\n",
    "for profile in profiles:\n",
    "    for key, val in profile.items():\n",
    "        if key in 'favoriteFruits' and val not in fav_fruits.keys():\n",
    "            fav_fruits[val] = 1\n",
    "        elif key in 'favoriteFruits' and val in fav_fruits.keys():\n",
    "            fav_fruits[val] += 1\n",
    "print(\"Most liked fruit:\")\n",
    "print(max(fav_fruits.items()))"
   ]
  },
  {
   "cell_type": "code",
   "execution_count": 11,
   "id": "8a082934",
   "metadata": {},
   "outputs": [
    {
     "name": "stdout",
     "output_type": "stream",
     "text": [
      "('apple', 4)\n"
     ]
    }
   ],
   "source": [
    "print(\"Least liked fruit:\")\n",
    "print(min(fav_fruits.items()))"
   ]
  },
  {
   "cell_type": "code",
   "execution_count": 110,
   "id": "844a6666",
   "metadata": {},
   "outputs": [
    {
     "name": "stdout",
     "output_type": "stream",
     "text": [
      "210\n"
     ]
    }
   ],
   "source": [
    "msg_count = []\n",
    "for profile in profiles:\n",
    "    num = ''\n",
    "    for char in profile['greeting']:\n",
    "        if char.isnumeric():\n",
    "            num += char\n",
    "    msg_count.append(int(num))\n",
    "print(\"Total unread messages for all users:\")\n",
    "print(sum(msg_count))"
   ]
  }
 ],
 "metadata": {
  "kernelspec": {
   "display_name": "Python 3",
   "language": "python",
   "name": "python3"
  },
  "language_info": {
   "codemirror_mode": {
    "name": "ipython",
    "version": 3
   },
   "file_extension": ".py",
   "mimetype": "text/x-python",
   "name": "python",
   "nbconvert_exporter": "python",
   "pygments_lexer": "ipython3",
   "version": "3.8.8"
  }
 },
 "nbformat": 4,
 "nbformat_minor": 5
}
